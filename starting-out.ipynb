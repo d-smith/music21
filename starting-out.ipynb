{
 "cells": [
  {
   "cell_type": "code",
   "execution_count": 2,
   "metadata": {},
   "outputs": [],
   "source": [
    "from music21 import *\n",
    "\n",
    "# Music21 - https://web.mit.edu/music21/doc/index.html"
   ]
  },
  {
   "cell_type": "code",
   "execution_count": 66,
   "metadata": {},
   "outputs": [],
   "source": [
    "BbMaj7sharp11 = chord.Chord(['B4-', 'F5','A5','E6'])\n",
    "\n",
    "d = duration.Duration()\n",
    "d.quarterLength = 4\n",
    "BbMaj7sharp11.duration = d\n"
   ]
  },
  {
   "cell_type": "code",
   "execution_count": 67,
   "metadata": {},
   "outputs": [
    {
     "data": {
      "image/png": "[encoded data removed]",
      "text/plain": [
       "<IPython.core.display.Image object>"
      ]
     },
     "metadata": {
      "image/png": {
       "height": 62,
       "width": 161
      }
     },
     "output_type": "display_data"
    }
   ],
   "source": [
    "BbMaj7sharp11.show()"
   ]
  },
  {
   "cell_type": "code",
   "execution_count": 61,
   "metadata": {},
   "outputs": [],
   "source": [
    "BbMaj7 = chord.Chord(['B4-', 'F5','A5','D6'])"
   ]
  },
  {
   "cell_type": "code",
   "execution_count": 62,
   "metadata": {},
   "outputs": [
    {
     "data": {
      "image/png": "[encoded data removed]",
      "text/plain": [
       "<IPython.core.display.Image object>"
      ]
     },
     "metadata": {
      "image/png": {
       "height": 58,
       "width": 146
      }
     },
     "output_type": "display_data"
    }
   ],
   "source": [
    "BbMaj7.show()"
   ]
  },
  {
   "cell_type": "code",
   "execution_count": 52,
   "metadata": {},
   "outputs": [],
   "source": [
    "fn4 = tablature.FretNote(string=4, fret=8)\n",
    "fn3 = tablature.FretNote(string=3, fret=10)\n",
    "fn2 = tablature.FretNote(string=2, fret=10)\n",
    "fn1 = tablature.FretNote(string=1, fret=12)\n",
    "fb = tablature.GuitarFretBoard(fretNotes=[fn1, fn2, fn3, fn4])\n"
   ]
  },
  {
   "cell_type": "code",
   "execution_count": 63,
   "metadata": {},
   "outputs": [
    {
     "data": {
      "image/png": "[encoded data removed]",
      "text/plain": [
       "<IPython.core.display.Image object>"
      ]
     },
     "metadata": {
      "image/png": {
       "height": 62,
       "width": 161
      }
     },
     "output_type": "display_data"
    }
   ],
   "source": [
    "c = chord.Chord(list(filter(None,fb.getPitches())))\n",
    "\n",
    "d = duration.Duration()\n",
    "d.quarterLength = 4\n",
    "c.duration = d\n",
    "\n",
    "aInterval = interval.Interval(12)\n",
    "c = c.transpose(aInterval)\n",
    "\n",
    "c.show()"
   ]
  },
  {
   "cell_type": "code",
   "execution_count": 64,
   "metadata": {},
   "outputs": [
    {
     "name": "stdout",
     "output_type": "stream",
     "text": [
      "double-fourth tetramirror\n",
      "Chord {B-flat in octave 4 | F in octave 5 | A in octave 5 | E in octave 6} Whole\n"
     ]
    }
   ],
   "source": [
    "print(c.commonName)\n",
    "print(c.fullName)"
   ]
  },
  {
   "cell_type": "code",
   "execution_count": 65,
   "metadata": {},
   "outputs": [
    {
     "data": {
      "image/png": "[encoded data removed]",
      "text/plain": [
       "<IPython.core.display.Image object>"
      ]
     },
     "metadata": {
      "image/png": {
       "height": 56,
       "width": 175
      }
     },
     "output_type": "display_data"
    }
   ],
   "source": [
    "fn1 = tablature.FretNote(string=1, fret=10)\n",
    "fb = tablature.GuitarFretBoard(fretNotes=[fn1, fn2, fn3, fn4])\n",
    "c = chord.Chord(list(filter(None,fb.getPitches())))\n",
    "c.show()"
   ]
  },
  {
   "cell_type": "code",
   "execution_count": 45,
   "metadata": {},
   "outputs": [
    {
     "data": {
      "text/plain": [
       "'major seventh chord'"
      ]
     },
     "execution_count": 45,
     "metadata": {},
     "output_type": "execute_result"
    }
   ],
   "source": [
    "c.commonName"
   ]
  },
  {
   "cell_type": "code",
   "execution_count": null,
   "metadata": {},
   "outputs": [],
   "source": []
  }
 ],
 "metadata": {
  "kernelspec": {
   "display_name": "Python 3",
   "language": "python",
   "name": "python3"
  },
  "language_info": {
   "codemirror_mode": {
    "name": "ipython",
    "version": 3
   },
   "file_extension": ".py",
   "mimetype": "text/x-python",
   "name": "python",
   "nbconvert_exporter": "python",
   "pygments_lexer": "ipython3",
   "version": "3.6.5"
  }
 },
 "nbformat": 4,
 "nbformat_minor": 2
}
